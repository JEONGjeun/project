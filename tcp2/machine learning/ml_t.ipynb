{
 "cells": [
  {
   "cell_type": "code",
   "execution_count": null,
   "metadata": {},
   "outputs": [],
   "source": [
    "# from metabase_api import Metabase_API\n",
    "\n",
    "########\n",
    "# csv 읽기\n",
    "# 그대로 db에 집어넣기까지 한 뒤, 아래의 소스를 붙여넣고 전체 소스 완성\n",
    "########\n",
    "\n",
    "# 메타베이스에서 데이터 뽑아오기\n",
    "# mb = Metabase_API('http://localhost:3000/', 'shirakawataka@gmail.com', 'test1234@')\n",
    "\n",
    "# out = mb.post('/api/card/8/query/json')\n",
    "\n",
    "# df = pd.DataFrame.from_records(out)"
   ]
  },
  {
   "cell_type": "code",
   "execution_count": 2,
   "metadata": {},
   "outputs": [],
   "source": [
    "import pandas as pd\n",
    "from sklearn import linear_model as lm\n",
    "import sklearn.model_selection\n",
    "from matplotlib import pyplot as plt\n",
    "import numpy as np\n",
    "import pymysql"
   ]
  },
  {
   "cell_type": "code",
   "execution_count": 3,
   "metadata": {},
   "outputs": [
    {
     "name": "stdout",
     "output_type": "stream",
     "text": [
      "(datetime.date(2017, 1, 1), Decimal('1600'), Decimal('20748'), Decimal('20748'), Decimal('22348'))\n",
      "(datetime.date(2017, 2, 1), Decimal('760'), Decimal('30854'), Decimal('30854'), Decimal('31614'))\n",
      "(datetime.date(2017, 3, 1), Decimal('1600'), Decimal('24019'), Decimal('24019'), Decimal('25619'))\n",
      "(datetime.date(2017, 4, 1), Decimal('11612'), Decimal('36054'), Decimal('36054'), Decimal('47666'))\n",
      "(datetime.date(2017, 5, 1), Decimal('8464'), Decimal('54084'), Decimal('54084'), Decimal('62498'))\n",
      "(datetime.date(2017, 6, 1), Decimal('8096'), Decimal('32675'), Decimal('32675'), Decimal('40771'))\n",
      "(datetime.date(2017, 7, 1), Decimal('4005'), Decimal('29237'), Decimal('29237'), Decimal('33167'))\n",
      "(datetime.date(2017, 8, 1), Decimal('2949'), Decimal('44261'), Decimal('44261'), Decimal('47210'))\n",
      "(datetime.date(2017, 9, 1), Decimal('6079'), Decimal('27256'), Decimal('27256'), Decimal('33259'))\n",
      "(datetime.date(2017, 10, 1), Decimal('7036'), Decimal('30835'), Decimal('30835'), Decimal('37853'))\n",
      "(datetime.date(2017, 11, 1), Decimal('7652'), Decimal('18926'), Decimal('18926'), Decimal('26503'))\n",
      "(datetime.date(2017, 12, 1), Decimal('3379'), Decimal('23785'), Decimal('23785'), Decimal('27164'))\n",
      "            0      1      2      3      4\n",
      "0  2017-01-01   1600  20748  20748  22348\n",
      "1  2017-02-01    760  30854  30854  31614\n",
      "2  2017-03-01   1600  24019  24019  25619\n",
      "3  2017-04-01  11612  36054  36054  47666\n",
      "4  2017-05-01   8464  54084  54084  62498\n"
     ]
    }
   ],
   "source": [
    "# 아니면 DB에서 직접 뽑아오는 방법도 존재함. 아래의 SQL을 사용\n",
    "conn = pymysql.connect(\n",
    "    user = 'taka',\n",
    "    password = '1004',\n",
    "    host = '127.0.0.1',\n",
    "    database ='vist',\n",
    "    charset = 'utf8'\n",
    ")\n",
    "\n",
    "sql = \"SELECT str_to_date(concat(date_format(`vistp`.`check_date`,'%Y-%m'),'-01'),'%Y-%m-%d')AS `check_date`,sum(`vistp`.`booking`)AS `sum`, sum(`vistp`.`nb_visit`)AS `sum_2`, sum(`vistp`.`nb_visit`)AS `sum_3`,  sum(`vistp`.`totvisit`) AS sum_4 FROM vistp GROUP BY str_to_date(concat(date_format(`vistp`.`check_date`,'%Y-%m'),'-01'),'%Y-%m-%d')ORDER BY str_to_date(concat(date_format(`vistp`.`check_date`,'%Y-%m'),'-01'),'%Y-%m-%d')ASC\"\n",
    "\n",
    "with conn:\n",
    "    with conn.cursor() as cur:\n",
    "        cur.execute(sql)\n",
    "        result = cur.fetchall()\n",
    "        for data in result:\n",
    "            print(data)\n",
    "        \n",
    "        df = pd.DataFrame.from_records(result)\n",
    "            \n",
    "print(df.head())"
   ]
  },
  {
   "cell_type": "code",
   "execution_count": null,
   "metadata": {},
   "outputs": [],
   "source": [
    "df.columns"
   ]
  },
  {
   "cell_type": "code",
   "execution_count": 4,
   "metadata": {},
   "outputs": [
    {
     "name": "stdout",
     "output_type": "stream",
     "text": [
      "   check_date    tot\n",
      "0  2017-01-01  22348\n",
      "1  2017-02-01  31614\n",
      "2  2017-03-01  25619\n",
      "3  2017-04-01  47666\n",
      "4  2017-05-01  62498\n",
      "   check_date tot_pred  tot_0  tot_1  tot_2  tot_3  tot_4  tot_5\n",
      "0  2017-07-01    33167  40771  62498  47666  25619  31614  22348\n",
      "1  2017-08-01    47210  33167  40771  62498  47666  25619  31614\n",
      "2  2017-09-01    33259  47210  33167  40771  62498  47666  25619\n",
      "3  2017-10-01    37853  33259  47210  33167  40771  62498  47666\n",
      "4  2017-11-01    26503  37853  33259  47210  33167  40771  62498\n",
      "5  2017-12-01    27164  26503  37853  33259  47210  33167  40771\n"
     ]
    }
   ],
   "source": [
    "# 인덱스 지정 check_date 를 유니크 값으로 간주 가능\n",
    "# 결측치는 존재하지 않으므로 처리 할 필요가 없음.\n",
    "# 일일 데이터의 휴관일 등으로 인한 관람객 0명은 월 합계에서 무시되는 값이기 때문.\n",
    "\n",
    "# 필요한 데이터만 정제해봄\n",
    "\n",
    "df = df.drop(df.columns[[1,2,3]], axis=1)\n",
    "\n",
    "# 총 입장객 수를 가지고, 2018년 1월의 입장객 예측 데이터를 뽑아보려고 함\n",
    "# 총 입장객 수의 칼럼명 변경\n",
    "\n",
    "df.columns = ['check_date', 'tot']\n",
    "print(df.head())\n",
    "\n",
    "year_months = list(df['check_date'].unique())\n",
    "pred_data = pd.DataFrame()\n",
    "\n",
    "# 2017년 7월부터 뽑아야하므로 인덱스번호 6부터\n",
    "for i in range(6, len(year_months)):\n",
    "    # 해당 월 하나씩 뽑아서 임시 데이터 프레임에 저장\n",
    "    tmp = df.copy()\n",
    "    tmp = tmp.loc[df['check_date'] == year_months[i]]\n",
    "    # tmp의 tot를 tot_pred로 변경 (예측하고자 하는 정답 데이터)\n",
    "    tmp.rename(columns={'tot': 'tot_pred'}, inplace=True)\n",
    "    # 데이터 병합을 위해, 현재 데이터 수집 중인 연월을 저장\n",
    "    nowDate = year_months[i]\n",
    "\n",
    "    # 그리고 tmp 하나의 달에 대응하는 이전 6개월 분의 데이터를 만듦\n",
    "    for j in range(1,7):\n",
    "        tmp_before = df.copy()\n",
    "        tmp_before = tmp_before.loc[df['check_date'] == year_months[i-j]]\n",
    "\n",
    "        # 과거 6개월의 데이터를 채우기 때문에 tot0부터 6까지의 열이 만들어짐\n",
    "        tmp_before.rename(columns={'tot': 'tot_{}'.format(j-1)}, inplace=True)\n",
    "        tmp_before.loc[i-j, 'check_date'] = nowDate\n",
    "\n",
    "        # 그리고 tmp와 tmp_before를 결합\n",
    "        tmp = pd.merge(tmp, tmp_before, on='check_date', how='left')\n",
    "\n",
    "    # 결합 후, 비어있는 pred_data에 tmp를 하나하나 결합시킴\n",
    "    pred_data = pd.concat([pred_data, tmp], ignore_index=True)\n",
    "\n",
    "print(pred_data)"
   ]
  },
  {
   "cell_type": "code",
   "execution_count": 6,
   "metadata": {},
   "outputs": [
    {
     "name": "stdout",
     "output_type": "stream",
     "text": [
      "1.0\n",
      "-6.306025092338872\n"
     ]
    },
    {
     "data": {
      "image/png": "[encoded data removed]",
      "text/plain": [
       "<Figure size 432x288 with 1 Axes>"
      ]
     },
     "metadata": {
      "needs_background": "light"
     },
     "output_type": "display_data"
    }
   ],
   "source": [
    "model = lm.LinearRegression()\n",
    "\n",
    "# 학습 할 독립 변수\n",
    "X = pred_data[['tot_0', 'tot_1', 'tot_2', 'tot_3', 'tot_4', 'tot_5']]\n",
    "# 학습 할 종속 변수\n",
    "y = pred_data['tot_pred']\n",
    "\n",
    "# 학습 시키기\n",
    "# 먼저 train과 test set을 나눔\n",
    "# 디폴트로는 train:test를 75:25로 분할\n",
    "X_train, X_test, y_train, y_test = sklearn.model_selection.train_test_split(X, y)\n",
    "model.fit(X_train, y_train)\n",
    "\n",
    "# 검증?\n",
    "print(model.score(X_train, y_train))\n",
    "print(model.score(X_test, y_test))\n",
    "\n",
    "# 그래프 그리기\n",
    "\n",
    "x = np.arange('2017-07', '2018-01', dtype='datetime64[M]')\n",
    "yy = y.values.tolist()\n",
    "\n",
    "plt.plot(x, yy)\n",
    "plt.show()"
   ]
  }
 ],
 "metadata": {
  "interpreter": {
   "hash": "a61db04c97f8bad0013344ee51a7cb632e766eb3c3fb7f529f5f15bd30241ba3"
  },
  "kernelspec": {
   "display_name": "Python 3.10.4 64-bit",
   "language": "python",
   "name": "python3"
  },
  "language_info": {
   "codemirror_mode": {
    "name": "ipython",
    "version": 3
   },
   "file_extension": ".py",
   "mimetype": "text/x-python",
   "name": "python",
   "nbconvert_exporter": "python",
   "pygments_lexer": "ipython3",
   "version": "3.10.4"
  },
  "orig_nbformat": 4
 },
 "nbformat": 4,
 "nbformat_minor": 2
}
